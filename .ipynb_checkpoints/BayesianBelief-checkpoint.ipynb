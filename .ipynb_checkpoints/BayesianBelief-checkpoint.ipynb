{
 "cells": [
  {
   "cell_type": "code",
   "execution_count": 1,
   "metadata": {
    "colab": {
     "base_uri": "https://localhost:8080/",
     "height": 459
    },
    "executionInfo": {
     "elapsed": 14953,
     "status": "ok",
     "timestamp": 1618892129464,
     "user": {
      "displayName": "Gayathri M",
      "photoUrl": "",
      "userId": "02486515014209570526"
     },
     "user_tz": -330
    },
    "id": "K93sQI4MfRLQ",
    "outputId": "aa93b238-b197-4937-de5e-6cead40ca39c"
   },
   "outputs": [
    {
     "name": "stdout",
     "output_type": "stream",
     "text": [
      "Collecting pomegranate\n",
      "  Downloading pomegranate-0.14.8-cp38-cp38-win_amd64.whl (6.5 MB)\n",
      "Requirement already satisfied: numpy>=1.20.0 in c:\\users\\user\\anaconda3\\lib\\site-packages (from pomegranate) (1.20.1)\n",
      "Requirement already satisfied: joblib>=0.9.0b4 in c:\\users\\user\\anaconda3\\lib\\site-packages (from pomegranate) (1.0.1)\n",
      "Requirement already satisfied: scipy>=0.17.0 in c:\\users\\user\\anaconda3\\lib\\site-packages (from pomegranate) (1.6.2)\n",
      "Requirement already satisfied: pyyaml in c:\\users\\user\\anaconda3\\lib\\site-packages (from pomegranate) (5.4.1)\n",
      "Requirement already satisfied: networkx>=2.4 in c:\\users\\user\\anaconda3\\lib\\site-packages (from pomegranate) (2.5)\n",
      "Requirement already satisfied: decorator>=4.3.0 in c:\\users\\user\\anaconda3\\lib\\site-packages (from networkx>=2.4->pomegranate) (5.0.6)\n",
      "Installing collected packages: pomegranate\n",
      "Successfully installed pomegranate-0.14.8\n"
     ]
    }
   ],
   "source": [
    "!pip install pomegranate\n"
   ]
  },
  {
   "cell_type": "code",
   "execution_count": 8,
   "metadata": {
    "executionInfo": {
     "elapsed": 1248,
     "status": "ok",
     "timestamp": 1618893677775,
     "user": {
      "displayName": "Gayathri M",
      "photoUrl": "",
      "userId": "02486515014209570526"
     },
     "user_tz": -330
    },
    "id": "VW9jskLWffqI"
   },
   "outputs": [],
   "source": [
    "#Import required packages\n",
    "import math\n",
    "from pomegranate import *\n",
    " \n",
    "# Initially the door selected by the guest is completely random\n",
    "guest =DiscreteDistribution( { 'A': 1./3, 'B': 1./3, 'C': 1./3 } )\n",
    " \n",
    "# The door containing the prize is also a random process\n",
    "prize =DiscreteDistribution( { 'A': 1./3, 'B': 1./3, 'C': 1./3 } )\n",
    " \n",
    "# The door Monty picks, depends on the choice of the guest and the prize door\n",
    "monty =ConditionalProbabilityTable(\n",
    "[[ 'A', 'A', 'A', 0.0 ],\n",
    "[ 'A', 'A', 'B', 0.5 ],\n",
    "[ 'A', 'A', 'C', 0.5 ],\n",
    "[ 'A', 'B', 'A', 0.0 ],\n",
    "[ 'A', 'B', 'B', 0.0 ],\n",
    "[ 'A', 'B', 'C', 1.0 ],\n",
    "[ 'A', 'C', 'A', 0.0 ],\n",
    "[ 'A', 'C', 'B', 1.0 ],\n",
    "[ 'A', 'C', 'C', 0.0 ],\n",
    "[ 'B', 'A', 'A', 0.0 ],\n",
    "[ 'B', 'A', 'B', 0.0 ],\n",
    "[ 'B', 'A', 'C', 1.0 ],\n",
    "[ 'B', 'B', 'A', 0.5 ],\n",
    "[ 'B', 'B', 'B', 0.0 ],\n",
    "[ 'B', 'B', 'C', 0.5 ],\n",
    "[ 'B', 'C', 'A', 1.0 ],\n",
    "[ 'B', 'C', 'B', 0.0 ],\n",
    "[ 'B', 'C', 'C', 0.0 ],\n",
    "[ 'C', 'A', 'A', 0.0 ],\n",
    "[ 'C', 'A', 'B', 1.0 ],\n",
    "[ 'C', 'A', 'C', 0.0 ],\n",
    "[ 'C', 'B', 'A', 1.0 ],\n",
    "[ 'C', 'B', 'B', 0.0 ],\n",
    "[ 'C', 'B', 'C', 0.0 ],\n",
    "[ 'C', 'C', 'A', 0.5 ],\n",
    "[ 'C', 'C', 'B', 0.5 ],\n",
    "[ 'C', 'C', 'C', 0.0 ]], [guest, prize] )\n",
    " \n",
    "d1 = State( guest, name=\"guest\" )\n",
    "d2 = State( prize, name=\"prize\" )\n",
    "d3 = State( monty, name=\"monty\" )\n",
    " \n",
    "#Building the Bayesian Network\n",
    "network = BayesianNetwork( \"Solving the Monty Hall Problem With Bayesian Networks\" )\n",
    "network.add_states(d1, d2, d3)\n",
    "network.add_edge(d1, d3)\n",
    "network.add_edge(d2, d3)\n",
    "network.bake()"
   ]
  },
  {
   "cell_type": "code",
   "execution_count": 9,
   "metadata": {
    "colab": {
     "base_uri": "https://localhost:8080/"
    },
    "executionInfo": {
     "elapsed": 1190,
     "status": "ok",
     "timestamp": 1618893684648,
     "user": {
      "displayName": "Gayathri M",
      "photoUrl": "",
      "userId": "02486515014209570526"
     },
     "user_tz": -330
    },
    "id": "oYjcfMbCfjuH",
    "outputId": "8d12eb1c-49e8-4982-cef5-be9ef3a50fc4"
   },
   "outputs": [
    {
     "name": "stdout",
     "output_type": "stream",
     "text": [
      "guesttAnprizet{\n",
      "    \"class\" : \"Distribution\",\n",
      "    \"dtype\" : \"str\",\n",
      "    \"name\" : \"DiscreteDistribution\",\n",
      "    \"parameters\" : [\n",
      "        {\n",
      "            \"A\" : 0.3333333333333334,\n",
      "            \"B\" : 0.0,\n",
      "            \"C\" : 0.6666666666666664\n",
      "        }\n",
      "    ],\n",
      "    \"frozen\" : false\n",
      "}nmontytB\n"
     ]
    }
   ],
   "source": [
    "beliefs = network.predict_proba({'guest' : 'A', 'monty' : 'B'})\n",
    "print(\"n\".join( \"{}t{}\".format( state.name, str(belief) ) for state, belief in zip( network.states, beliefs )))\n",
    " "
   ]
  },
  {
   "cell_type": "code",
   "execution_count": 10,
   "metadata": {
    "colab": {
     "base_uri": "https://localhost:8080/"
    },
    "executionInfo": {
     "elapsed": 1244,
     "status": "ok",
     "timestamp": 1618893709100,
     "user": {
      "displayName": "Gayathri M",
      "photoUrl": "",
      "userId": "02486515014209570526"
     },
     "user_tz": -330
    },
    "id": "blsVjF3ylVNL",
    "outputId": "2205c775-a1d6-4416-e671-26b58c63a44f"
   },
   "outputs": [
    {
     "name": "stdout",
     "output_type": "stream",
     "text": [
      "guesttAnprizet{\n",
      "    \"class\" : \"Distribution\",\n",
      "    \"dtype\" : \"str\",\n",
      "    \"name\" : \"DiscreteDistribution\",\n",
      "    \"parameters\" : [\n",
      "        {\n",
      "            \"A\" : 0.3333333333333333,\n",
      "            \"B\" : 0.3333333333333333,\n",
      "            \"C\" : 0.3333333333333333\n",
      "        }\n",
      "    ],\n",
      "    \"frozen\" : false\n",
      "}nmontyt{\n",
      "    \"class\" : \"Distribution\",\n",
      "    \"dtype\" : \"str\",\n",
      "    \"name\" : \"DiscreteDistribution\",\n",
      "    \"parameters\" : [\n",
      "        {\n",
      "            \"A\" : 0.0,\n",
      "            \"B\" : 0.49999999999999983,\n",
      "            \"C\" : 0.49999999999999983\n",
      "        }\n",
      "    ],\n",
      "    \"frozen\" : false\n",
      "}\n"
     ]
    }
   ],
   "source": [
    "beliefs = network.predict_proba({ 'guest' : 'A' })\n",
    "beliefs = map(str, beliefs)\n",
    "print(\"n\".join( \"{}t{}\".format( state.name, belief ) for state, belief in zip( network.states, beliefs ) ))"
   ]
  }
 ],
 "metadata": {
  "colab": {
   "authorship_tag": "ABX9TyPoD1mOUFQALGQUG/yK6lU0",
   "name": "BayesianBelief.ipynb",
   "provenance": []
  },
  "kernelspec": {
   "display_name": "Python 3",
   "language": "python",
   "name": "python3"
  },
  "language_info": {
   "codemirror_mode": {
    "name": "ipython",
    "version": 3
   },
   "file_extension": ".py",
   "mimetype": "text/x-python",
   "name": "python",
   "nbconvert_exporter": "python",
   "pygments_lexer": "ipython3",
   "version": "3.8.8"
  }
 },
 "nbformat": 4,
 "nbformat_minor": 1
}
