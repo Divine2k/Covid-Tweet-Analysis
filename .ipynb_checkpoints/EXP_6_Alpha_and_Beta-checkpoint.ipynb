{
 "cells": [
  {
   "cell_type": "code",
   "execution_count": 25,
   "metadata": {
    "id": "kqjl_ngc-Ul5"
   },
   "outputs": [],
   "source": [
    "def pruning(tree, maximising_player, alpha=float(\"-inf\"), beta=float(\"+inf\")):\n",
    "    if isinstance(tree, Terminal):\n",
    "        return tree.value\n",
    "\n",
    "    val, func = (float(\"-inf\"), max) if maximising_player else (float(\"+inf\"), min)\n",
    "\n",
    "    for subtree in tree.children:\n",
    "        val = func(pruning(subtree, not maximising_player, alpha, beta), val)\n",
    "        if maximising_player:\n",
    "            alpha = max(alpha, val)\n",
    "        else:\n",
    "            beta = min(beta, val)\n",
    "        if (maximising_player and val >= beta) or (not maximising_player and val <= alpha):\n",
    "            break\n",
    "    return val"
   ]
  },
  {
   "cell_type": "code",
   "execution_count": 26,
   "metadata": {
    "id": "1XTwQ2M5-pWi"
   },
   "outputs": [],
   "source": [
    "class Tree:\n",
    "    def __init__(self, children):\n",
    "        self.children = children\n",
    "\n",
    "    def __str__(self):\n",
    "        return f\"Tree({', '.join(str(sub) for sub in self.children)})\"\n",
    "\n",
    "class Terminal(Tree):\n",
    "    def __init__(self, value):\n",
    "        super().__init__([])\n",
    "        self.value = value\n",
    "\n",
    "    def __str__(self):\n",
    "        return f\"T({self.value})\""
   ]
  },
  {
   "cell_type": "code",
   "execution_count": 20,
   "metadata": {
    "colab": {
     "base_uri": "https://localhost:8080/"
    },
    "id": "N3ctTgvw-ZeV",
    "outputId": "84b35c03-d14d-4202-a9a5-2bb60c5868a5"
   },
   "outputs": [
    {
     "name": "stdout",
     "output_type": "stream",
     "text": [
      "10\n",
      "8\n"
     ]
    }
   ],
   "source": [
    "tree = Tree([\n",
    "    Tree([\n",
    "        Tree([\n",
    "            Terminal(3),\n",
    "            Terminal(4),\n",
    "        ]),\n",
    "        Tree([\n",
    "            Terminal(8),\n",
    "            Tree([\n",
    "                Terminal(-2),\n",
    "                Terminal(10),\n",
    "            ]),\n",
    "            Terminal(8),\n",
    "        ])\n",
    "    ]),\n",
    "    Terminal(10),\n",
    "])\n",
    "\n",
    "print(pruning(tree, True))      \n",
    "print(pruning(tree, False))     "
   ]
  },
  {
   "cell_type": "code",
   "execution_count": 28,
   "metadata": {
    "id": "ge1qka5rDU57"
   },
   "outputs": [],
   "source": []
  },
  {
   "cell_type": "code",
   "execution_count": 31,
   "metadata": {
    "colab": {
     "base_uri": "https://localhost:8080/"
    },
    "id": "r0u-sYmHDaQa",
    "outputId": "0885d6eb-de7e-450b-b75d-6456ef93d6ab",
    "scrolled": true
   },
   "outputs": [
    {
     "name": "stdout",
     "output_type": "stream",
     "text": [
      "Tree(Tree(Tree(T(3), T(4)), Tree(T(8), Tree(T(-2), T(10)), T(8))), T(10))\n"
     ]
    }
   ],
   "source": [
    "print(tree)"
   ]
  }
 ],
 "metadata": {
  "colab": {
   "collapsed_sections": [],
   "name": "EXP 6 Alpha and Beta",
   "provenance": []
  },
  "kernelspec": {
   "display_name": "Python 3",
   "language": "python",
   "name": "python3"
  },
  "language_info": {
   "codemirror_mode": {
    "name": "ipython",
    "version": 3
   },
   "file_extension": ".py",
   "mimetype": "text/x-python",
   "name": "python",
   "nbconvert_exporter": "python",
   "pygments_lexer": "ipython3",
   "version": "3.8.8"
  }
 },
 "nbformat": 4,
 "nbformat_minor": 1
}
